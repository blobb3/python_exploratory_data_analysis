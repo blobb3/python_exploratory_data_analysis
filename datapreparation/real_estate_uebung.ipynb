{
 "cells": [
  {
   "cell_type": "markdown",
   "metadata": {},
   "source": [
    "# Real Esatate Data Preparation"
   ]
  },
  {
   "cell_type": "markdown",
   "metadata": {},
   "source": [
    "## Libraries and settings "
   ]
  },
  {
   "cell_type": "code",
   "execution_count": 61,
   "metadata": {},
   "outputs": [
    {
     "name": "stdout",
     "output_type": "stream",
     "text": [
      "/workspaces/python_exploratory_data_analysis/datapreparation\n"
     ]
    }
   ],
   "source": [
    "# Import necessary libraries\n",
    "import os\n",
    "import re\n",
    "import numpy as np\n",
    "import pandas as pd\n",
    "import matplotlib.pyplot as plt\n",
    "import seaborn as sns\n",
    "from datetime import datetime\n",
    "\n",
    "# Ignore warnings\n",
    "import warnings\n",
    "warnings.filterwarnings(\"ignore\")\n",
    "\n",
    "# Get current working directory\n",
    "print(os.getcwd())"
   ]
  },
  {
   "cell_type": "markdown",
   "metadata": {},
   "source": [
    "## Step 1: Importing Data\n",
    "Aufgabe 1: Datenimport und Basisinformationen\n",
    "\n",
    "- Laden Sie die Daten aus der „real_estate_data.xlsx“-Datei in einen DataFrame.\n",
    "- Ermitteln Sie die Anzahl der Zeilen und Spalten und geben Sie sie aus.\n",
    "- Zeigen Sie die ersten fünf Zeilen des DataFrames an."
   ]
  },
  {
   "cell_type": "code",
   "execution_count": 62,
   "metadata": {},
   "outputs": [
    {
     "name": "stdout",
     "output_type": "stream",
     "text": [
      "Anzahl der Zeilen: 15\n",
      "Anzahl der Spalten: 9\n"
     ]
    },
    {
     "data": {
      "text/html": [
       "<div>\n",
       "<style scoped>\n",
       "    .dataframe tbody tr th:only-of-type {\n",
       "        vertical-align: middle;\n",
       "    }\n",
       "\n",
       "    .dataframe tbody tr th {\n",
       "        vertical-align: top;\n",
       "    }\n",
       "\n",
       "    .dataframe thead th {\n",
       "        text-align: right;\n",
       "    }\n",
       "</style>\n",
       "<table border=\"1\" class=\"dataframe\">\n",
       "  <thead>\n",
       "    <tr style=\"text-align: right;\">\n",
       "      <th></th>\n",
       "      <th>property_id</th>\n",
       "      <th>location</th>\n",
       "      <th>size_raw</th>\n",
       "      <th>price_raw</th>\n",
       "      <th>rooms_raw</th>\n",
       "      <th>year_built</th>\n",
       "      <th>type</th>\n",
       "      <th>heating_type</th>\n",
       "      <th>description</th>\n",
       "    </tr>\n",
       "  </thead>\n",
       "  <tbody>\n",
       "    <tr>\n",
       "      <th>0</th>\n",
       "      <td>1</td>\n",
       "      <td>Zürich</td>\n",
       "      <td>120 m²</td>\n",
       "      <td>CHF 1'200'000.–</td>\n",
       "      <td>4.5 Zimmer</td>\n",
       "      <td>2000.0</td>\n",
       "      <td>Wohnung</td>\n",
       "      <td>Gas</td>\n",
       "      <td>Schöne und moderne Wohnung in zentraler Lage</td>\n",
       "    </tr>\n",
       "    <tr>\n",
       "      <th>1</th>\n",
       "      <td>2</td>\n",
       "      <td>Bern</td>\n",
       "      <td>85 m²</td>\n",
       "      <td>CHF 850'000.–</td>\n",
       "      <td>3 Zimmer</td>\n",
       "      <td>1995.0</td>\n",
       "      <td>Haus</td>\n",
       "      <td>Öl</td>\n",
       "      <td>Geräumiges Haus mit großem Garten</td>\n",
       "    </tr>\n",
       "    <tr>\n",
       "      <th>2</th>\n",
       "      <td>3</td>\n",
       "      <td>Genf</td>\n",
       "      <td>150 m²</td>\n",
       "      <td>CHF 1'500'000.–</td>\n",
       "      <td>5 Zimmer</td>\n",
       "      <td>2010.0</td>\n",
       "      <td>Wohnung</td>\n",
       "      <td>Elektro</td>\n",
       "      <td>Exklusive Wohnung mit Seeblick</td>\n",
       "    </tr>\n",
       "    <tr>\n",
       "      <th>3</th>\n",
       "      <td>4</td>\n",
       "      <td>Basel</td>\n",
       "      <td>200 m²</td>\n",
       "      <td>CHF 2'300'000.–</td>\n",
       "      <td>6 Zimmer</td>\n",
       "      <td>1980.0</td>\n",
       "      <td>Haus</td>\n",
       "      <td>Gas</td>\n",
       "      <td>Charmantes Haus mit großem Garten und Pool</td>\n",
       "    </tr>\n",
       "    <tr>\n",
       "      <th>4</th>\n",
       "      <td>5</td>\n",
       "      <td>Lausanne</td>\n",
       "      <td>95 m²</td>\n",
       "      <td>CHF 920'000.–</td>\n",
       "      <td>3.5 Zimmer</td>\n",
       "      <td>2005.0</td>\n",
       "      <td>Wohnung</td>\n",
       "      <td>Öl</td>\n",
       "      <td>Gemütliche Wohnung in ruhiger Umgebung</td>\n",
       "    </tr>\n",
       "  </tbody>\n",
       "</table>\n",
       "</div>"
      ],
      "text/plain": [
       "   property_id  location size_raw        price_raw   rooms_raw  year_built  \\\n",
       "0            1    Zürich   120 m²  CHF 1'200'000.–  4.5 Zimmer      2000.0   \n",
       "1            2      Bern    85 m²    CHF 850'000.–    3 Zimmer      1995.0   \n",
       "2            3      Genf   150 m²  CHF 1'500'000.–    5 Zimmer      2010.0   \n",
       "3            4     Basel   200 m²  CHF 2'300'000.–    6 Zimmer      1980.0   \n",
       "4            5  Lausanne    95 m²    CHF 920'000.–  3.5 Zimmer      2005.0   \n",
       "\n",
       "      type heating_type                                   description  \n",
       "0  Wohnung          Gas  Schöne und moderne Wohnung in zentraler Lage  \n",
       "1     Haus           Öl             Geräumiges Haus mit großem Garten  \n",
       "2  Wohnung      Elektro                Exklusive Wohnung mit Seeblick  \n",
       "3     Haus          Gas    Charmantes Haus mit großem Garten und Pool  \n",
       "4  Wohnung           Öl        Gemütliche Wohnung in ruhiger Umgebung  "
      ]
     },
     "execution_count": 62,
     "metadata": {},
     "output_type": "execute_result"
    }
   ],
   "source": [
    "# Load data from Excel into pandas DataFrame\n",
    "df = pd.read_excel('./Data/real_estate_data.xlsx', sheet_name='properties')\n",
    "\n",
    "# Anzahl der Zeilen und Spalten\n",
    "print(\"Anzahl der Zeilen:\", df.shape[0])\n",
    "print(\"Anzahl der Spalten:\", df.shape[1])\n",
    "\n",
    "# Display first few rows\n",
    "df.head()"
   ]
  },
  {
   "cell_type": "markdown",
   "metadata": {},
   "source": [
    "## Step 2: Exploratory Data Analysis"
   ]
  },
  {
   "cell_type": "code",
   "execution_count": 63,
   "metadata": {},
   "outputs": [
    {
     "name": "stdout",
     "output_type": "stream",
     "text": [
      "Number of rows: 15\n",
      "Number of columns: 9\n"
     ]
    }
   ],
   "source": [
    "# Dimension of data (rows and columns)\n",
    "print(\"Number of rows:\", df.shape[0])\n",
    "print(\"Number of columns:\", df.shape[1])"
   ]
  },
  {
   "cell_type": "code",
   "execution_count": 64,
   "metadata": {},
   "outputs": [
    {
     "data": {
      "text/plain": [
       "property_id       int64\n",
       "location         object\n",
       "size_raw         object\n",
       "price_raw        object\n",
       "rooms_raw        object\n",
       "year_built      float64\n",
       "type             object\n",
       "heating_type     object\n",
       "description      object\n",
       "dtype: object"
      ]
     },
     "execution_count": 64,
     "metadata": {},
     "output_type": "execute_result"
    }
   ],
   "source": [
    "# Data types of each column\n",
    "df.dtypes"
   ]
  },
  {
   "cell_type": "markdown",
   "metadata": {},
   "source": [
    "## Extraktion numerischer Werte und Behandlung von fehlenden Werten\n",
    "1. Extrahieren Sie die numerischen Werte aus der Spalte size_raw (z. B. Quadratmeterangabe) und speichern Sie sie als size im DataFrame.\n",
    "2. Extrahieren Sie die numerischen Werte aus price_raw und speichern Sie sie als price im DataFrame.\n",
    "3. Extrahieren Sie die Anzahl der Zimmer aus rooms_raw und speichern Sie sie als rooms im DataFrame."
   ]
  },
  {
   "cell_type": "code",
   "execution_count": 65,
   "metadata": {},
   "outputs": [],
   "source": [
    "import re\n",
    "\n",
    "# Extraktion der Größe (size)\n",
    "size = []\n",
    "for i in df['size_raw']:\n",
    "    match = re.findall(r'\\d+', i)\n",
    "    try:\n",
    "        size.append(int(''.join(match)))\n",
    "    except:\n",
    "        size.append(None)\n",
    "df['size'] = pd.Series(size)"
   ]
  },
  {
   "cell_type": "code",
   "execution_count": 66,
   "metadata": {},
   "outputs": [],
   "source": [
    "# Extraktion des Preises (price)\n",
    "price = []\n",
    "for i in df['price_raw']:\n",
    "    match = re.findall(r'CHF\\s*([\\d\\']+)\\.–', i)\n",
    "    try:\n",
    "        price.append(int(match[0].replace(\"'\", \"\")))\n",
    "    except:\n",
    "        price.append(None)\n",
    "df['price'] = pd.Series(price)"
   ]
  },
  {
   "cell_type": "code",
   "execution_count": 67,
   "metadata": {},
   "outputs": [],
   "source": [
    "# Extraktion der Zimmeranzahl (rooms)\n",
    "rooms = []\n",
    "for i in df['rooms_raw']:\n",
    "    match = re.findall(r'\\d+\\.?\\d*', i)\n",
    "    try:\n",
    "        rooms.append(float(match[0]))\n",
    "    except:\n",
    "        rooms.append(None)\n",
    "df['rooms'] = pd.Series(rooms)"
   ]
  },
  {
   "cell_type": "code",
   "execution_count": 68,
   "metadata": {},
   "outputs": [
    {
     "data": {
      "text/html": [
       "<div>\n",
       "<style scoped>\n",
       "    .dataframe tbody tr th:only-of-type {\n",
       "        vertical-align: middle;\n",
       "    }\n",
       "\n",
       "    .dataframe tbody tr th {\n",
       "        vertical-align: top;\n",
       "    }\n",
       "\n",
       "    .dataframe thead th {\n",
       "        text-align: right;\n",
       "    }\n",
       "</style>\n",
       "<table border=\"1\" class=\"dataframe\">\n",
       "  <thead>\n",
       "    <tr style=\"text-align: right;\">\n",
       "      <th></th>\n",
       "      <th>size_raw</th>\n",
       "      <th>size</th>\n",
       "      <th>price_raw</th>\n",
       "      <th>price</th>\n",
       "      <th>rooms_raw</th>\n",
       "      <th>rooms</th>\n",
       "    </tr>\n",
       "  </thead>\n",
       "  <tbody>\n",
       "    <tr>\n",
       "      <th>0</th>\n",
       "      <td>120 m²</td>\n",
       "      <td>120</td>\n",
       "      <td>CHF 1'200'000.–</td>\n",
       "      <td>1200000</td>\n",
       "      <td>4.5 Zimmer</td>\n",
       "      <td>4.5</td>\n",
       "    </tr>\n",
       "    <tr>\n",
       "      <th>1</th>\n",
       "      <td>85 m²</td>\n",
       "      <td>85</td>\n",
       "      <td>CHF 850'000.–</td>\n",
       "      <td>850000</td>\n",
       "      <td>3 Zimmer</td>\n",
       "      <td>3.0</td>\n",
       "    </tr>\n",
       "    <tr>\n",
       "      <th>2</th>\n",
       "      <td>150 m²</td>\n",
       "      <td>150</td>\n",
       "      <td>CHF 1'500'000.–</td>\n",
       "      <td>1500000</td>\n",
       "      <td>5 Zimmer</td>\n",
       "      <td>5.0</td>\n",
       "    </tr>\n",
       "    <tr>\n",
       "      <th>3</th>\n",
       "      <td>200 m²</td>\n",
       "      <td>200</td>\n",
       "      <td>CHF 2'300'000.–</td>\n",
       "      <td>2300000</td>\n",
       "      <td>6 Zimmer</td>\n",
       "      <td>6.0</td>\n",
       "    </tr>\n",
       "    <tr>\n",
       "      <th>4</th>\n",
       "      <td>95 m²</td>\n",
       "      <td>95</td>\n",
       "      <td>CHF 920'000.–</td>\n",
       "      <td>920000</td>\n",
       "      <td>3.5 Zimmer</td>\n",
       "      <td>3.5</td>\n",
       "    </tr>\n",
       "  </tbody>\n",
       "</table>\n",
       "</div>"
      ],
      "text/plain": [
       "  size_raw  size        price_raw    price   rooms_raw  rooms\n",
       "0   120 m²   120  CHF 1'200'000.–  1200000  4.5 Zimmer    4.5\n",
       "1    85 m²    85    CHF 850'000.–   850000    3 Zimmer    3.0\n",
       "2   150 m²   150  CHF 1'500'000.–  1500000    5 Zimmer    5.0\n",
       "3   200 m²   200  CHF 2'300'000.–  2300000    6 Zimmer    6.0\n",
       "4    95 m²    95    CHF 920'000.–   920000  3.5 Zimmer    3.5"
      ]
     },
     "execution_count": 68,
     "metadata": {},
     "output_type": "execute_result"
    }
   ],
   "source": [
    "# Überprüfen der Extraktion\n",
    "df[['size_raw', 'size', 'price_raw', 'price', 'rooms_raw', 'rooms']].head()"
   ]
  },
  {
   "cell_type": "markdown",
   "metadata": {},
   "source": [
    "##### Fehllende Werte"
   ]
  },
  {
   "cell_type": "code",
   "execution_count": 69,
   "metadata": {},
   "outputs": [
    {
     "name": "stdout",
     "output_type": "stream",
     "text": [
      "Fehlende Werte pro Spalte:\n",
      " property_id     0\n",
      "location        0\n",
      "size_raw        0\n",
      "price_raw       0\n",
      "rooms_raw       0\n",
      "year_built      0\n",
      "type            0\n",
      "heating_type    0\n",
      "description     0\n",
      "size            0\n",
      "price           0\n",
      "rooms           0\n",
      "dtype: int64\n",
      "Anzahl der Zeilen nach dem Entfernen der fehlenden Werte: 15\n"
     ]
    }
   ],
   "source": [
    "# Zählen fehlender Werte\n",
    "print(\"Fehlende Werte pro Spalte:\\n\", df.isnull().sum())\n",
    "\n",
    "# Entfernen der Zeilen mit fehlenden Werten\n",
    "df = df.dropna().reset_index(drop=True)\n",
    "print(\"Anzahl der Zeilen nach dem Entfernen der fehlenden Werte:\", df.shape[0])"
   ]
  },
  {
   "cell_type": "markdown",
   "metadata": {},
   "source": [
    "### Extracting Numerical Values (e.g., from room strings or area descriptions if needed)"
   ]
  },
  {
   "cell_type": "code",
   "execution_count": 70,
   "metadata": {},
   "outputs": [],
   "source": [
    "# Example for extracting rooms if they were given as \"3.5 Zimmer\"\n",
    "# Here, `rooms` is already numeric, but let's prepare code in case of alphanumeric data\n",
    "# Convert `rooms` column to numeric (if necessary)\n",
    "df['rooms'] = pd.to_numeric(df['rooms'], errors='coerce')"
   ]
  },
  {
   "cell_type": "code",
   "execution_count": 71,
   "metadata": {},
   "outputs": [],
   "source": [
    "# Drop rows with missing values\n",
    "df = df.dropna().reset_index(drop=True)"
   ]
  },
  {
   "cell_type": "code",
   "execution_count": 72,
   "metadata": {},
   "outputs": [],
   "source": [
    "# Drop duplicates based on property_id\n",
    "df = df.drop_duplicates(subset='property_id')"
   ]
  },
  {
   "cell_type": "markdown",
   "metadata": {},
   "source": [
    "### String Manipulation - Making Description Uppercase"
   ]
  },
  {
   "cell_type": "markdown",
   "metadata": {},
   "source": [
    "df['description'] = df['description'].str.upper()\n",
    "df[['description']].head()"
   ]
  },
  {
   "cell_type": "markdown",
   "metadata": {},
   "source": [
    "### Erstellen von Pivot-Tabellen\n",
    "\n",
    "1. Erstellen Sie eine Pivot-Tabelle, die den durchschnittlichen Preis (price) und die durchschnittliche Größe (size) für jede Immobilienart (type) zeigt.\n",
    "2. Formatieren Sie die Ergebnisse auf zwei Dezimalstellen und zeigen Sie die Pivot-Tabelle an."
   ]
  },
  {
   "cell_type": "code",
   "execution_count": 73,
   "metadata": {},
   "outputs": [
    {
     "data": {
      "text/html": [
       "<div>\n",
       "<style scoped>\n",
       "    .dataframe tbody tr th:only-of-type {\n",
       "        vertical-align: middle;\n",
       "    }\n",
       "\n",
       "    .dataframe tbody tr th {\n",
       "        vertical-align: top;\n",
       "    }\n",
       "\n",
       "    .dataframe thead th {\n",
       "        text-align: right;\n",
       "    }\n",
       "</style>\n",
       "<table border=\"1\" class=\"dataframe\">\n",
       "  <thead>\n",
       "    <tr style=\"text-align: right;\">\n",
       "      <th></th>\n",
       "      <th>price</th>\n",
       "      <th>size</th>\n",
       "    </tr>\n",
       "    <tr>\n",
       "      <th>type</th>\n",
       "      <th></th>\n",
       "      <th></th>\n",
       "    </tr>\n",
       "  </thead>\n",
       "  <tbody>\n",
       "    <tr>\n",
       "      <th>Haus</th>\n",
       "      <td>1575000.00</td>\n",
       "      <td>142.50</td>\n",
       "    </tr>\n",
       "    <tr>\n",
       "      <th>Wohnung</th>\n",
       "      <td>1206666.67</td>\n",
       "      <td>121.67</td>\n",
       "    </tr>\n",
       "  </tbody>\n",
       "</table>\n",
       "</div>"
      ],
      "text/plain": [
       "              price    size\n",
       "type                       \n",
       "Haus     1575000.00  142.50\n",
       "Wohnung  1206666.67  121.67"
      ]
     },
     "execution_count": 73,
     "metadata": {},
     "output_type": "execute_result"
    }
   ],
   "source": [
    "# Erstellen einer Pivot-Tabelle\n",
    "pivot_table = pd.pivot_table(df, \n",
    "                             index='type', \n",
    "                             values={'price': 'mean', 'size': 'mean'}).round(2)\n",
    "\n",
    "# Formatierung der Werte\n",
    "pivot_table = pivot_table.applymap(lambda x: f\"{x:.2f}\")\n",
    "pivot_table\n"
   ]
  },
  {
   "cell_type": "markdown",
   "metadata": {},
   "source": [
    "### Feature Engineering"
   ]
  },
  {
   "cell_type": "code",
   "execution_count": 74,
   "metadata": {},
   "outputs": [
    {
     "data": {
      "text/html": [
       "<div>\n",
       "<style scoped>\n",
       "    .dataframe tbody tr th:only-of-type {\n",
       "        vertical-align: middle;\n",
       "    }\n",
       "\n",
       "    .dataframe tbody tr th {\n",
       "        vertical-align: top;\n",
       "    }\n",
       "\n",
       "    .dataframe thead th {\n",
       "        text-align: right;\n",
       "    }\n",
       "</style>\n",
       "<table border=\"1\" class=\"dataframe\">\n",
       "  <thead>\n",
       "    <tr style=\"text-align: right;\">\n",
       "      <th></th>\n",
       "      <th>year_built</th>\n",
       "      <th>age_of_property</th>\n",
       "    </tr>\n",
       "  </thead>\n",
       "  <tbody>\n",
       "    <tr>\n",
       "      <th>0</th>\n",
       "      <td>2000.0</td>\n",
       "      <td>24.0</td>\n",
       "    </tr>\n",
       "    <tr>\n",
       "      <th>1</th>\n",
       "      <td>1995.0</td>\n",
       "      <td>29.0</td>\n",
       "    </tr>\n",
       "    <tr>\n",
       "      <th>2</th>\n",
       "      <td>2010.0</td>\n",
       "      <td>14.0</td>\n",
       "    </tr>\n",
       "    <tr>\n",
       "      <th>3</th>\n",
       "      <td>1980.0</td>\n",
       "      <td>44.0</td>\n",
       "    </tr>\n",
       "    <tr>\n",
       "      <th>4</th>\n",
       "      <td>2005.0</td>\n",
       "      <td>19.0</td>\n",
       "    </tr>\n",
       "  </tbody>\n",
       "</table>\n",
       "</div>"
      ],
      "text/plain": [
       "   year_built  age_of_property\n",
       "0      2000.0             24.0\n",
       "1      1995.0             29.0\n",
       "2      2010.0             14.0\n",
       "3      1980.0             44.0\n",
       "4      2005.0             19.0"
      ]
     },
     "execution_count": 74,
     "metadata": {},
     "output_type": "execute_result"
    }
   ],
   "source": [
    "# Create a new feature 'age_of_property' based on the 'year_built' column\n",
    "df['age_of_property'] = datetime.now().year - df['year_built']\n",
    "df[['year_built', 'age_of_property']].head()"
   ]
  },
  {
   "cell_type": "code",
   "execution_count": 75,
   "metadata": {},
   "outputs": [
    {
     "data": {
      "text/html": [
       "<div>\n",
       "<style scoped>\n",
       "    .dataframe tbody tr th:only-of-type {\n",
       "        vertical-align: middle;\n",
       "    }\n",
       "\n",
       "    .dataframe tbody tr th {\n",
       "        vertical-align: top;\n",
       "    }\n",
       "\n",
       "    .dataframe thead th {\n",
       "        text-align: right;\n",
       "    }\n",
       "</style>\n",
       "<table border=\"1\" class=\"dataframe\">\n",
       "  <thead>\n",
       "    <tr style=\"text-align: right;\">\n",
       "      <th></th>\n",
       "      <th>price</th>\n",
       "      <th>size</th>\n",
       "      <th>price_per_m2</th>\n",
       "    </tr>\n",
       "  </thead>\n",
       "  <tbody>\n",
       "    <tr>\n",
       "      <th>0</th>\n",
       "      <td>1200000</td>\n",
       "      <td>120</td>\n",
       "      <td>10000.000000</td>\n",
       "    </tr>\n",
       "    <tr>\n",
       "      <th>1</th>\n",
       "      <td>850000</td>\n",
       "      <td>85</td>\n",
       "      <td>10000.000000</td>\n",
       "    </tr>\n",
       "    <tr>\n",
       "      <th>2</th>\n",
       "      <td>1500000</td>\n",
       "      <td>150</td>\n",
       "      <td>10000.000000</td>\n",
       "    </tr>\n",
       "    <tr>\n",
       "      <th>3</th>\n",
       "      <td>2300000</td>\n",
       "      <td>200</td>\n",
       "      <td>11500.000000</td>\n",
       "    </tr>\n",
       "    <tr>\n",
       "      <th>4</th>\n",
       "      <td>920000</td>\n",
       "      <td>95</td>\n",
       "      <td>9684.210526</td>\n",
       "    </tr>\n",
       "  </tbody>\n",
       "</table>\n",
       "</div>"
      ],
      "text/plain": [
       "     price  size  price_per_m2\n",
       "0  1200000   120  10000.000000\n",
       "1   850000    85  10000.000000\n",
       "2  1500000   150  10000.000000\n",
       "3  2300000   200  11500.000000\n",
       "4   920000    95   9684.210526"
      ]
     },
     "execution_count": 75,
     "metadata": {},
     "output_type": "execute_result"
    }
   ],
   "source": [
    "# Calculate price per square meter\n",
    "df['price_per_m2'] = df['price'] / df['size']\n",
    "df[['price', 'size', 'price_per_m2']].head()"
   ]
  },
  {
   "cell_type": "markdown",
   "metadata": {},
   "source": [
    "### Binning and One-Hot Encoding"
   ]
  },
  {
   "cell_type": "code",
   "execution_count": 76,
   "metadata": {},
   "outputs": [],
   "source": [
    "# Bin `price_per_m2` into categories\n",
    "df['price_per_m2_cat'] = pd.cut(df['price_per_m2'], bins=5, labels=['very cheap', 'cheap', 'normal', 'expensive', 'very expensive'])"
   ]
  },
  {
   "cell_type": "code",
   "execution_count": 77,
   "metadata": {},
   "outputs": [
    {
     "data": {
      "text/html": [
       "<div>\n",
       "<style scoped>\n",
       "    .dataframe tbody tr th:only-of-type {\n",
       "        vertical-align: middle;\n",
       "    }\n",
       "\n",
       "    .dataframe tbody tr th {\n",
       "        vertical-align: top;\n",
       "    }\n",
       "\n",
       "    .dataframe thead th {\n",
       "        text-align: right;\n",
       "    }\n",
       "</style>\n",
       "<table border=\"1\" class=\"dataframe\">\n",
       "  <thead>\n",
       "    <tr style=\"text-align: right;\">\n",
       "      <th></th>\n",
       "      <th>property_id</th>\n",
       "      <th>location</th>\n",
       "      <th>size_raw</th>\n",
       "      <th>price_raw</th>\n",
       "      <th>rooms_raw</th>\n",
       "      <th>year_built</th>\n",
       "      <th>type</th>\n",
       "      <th>description</th>\n",
       "      <th>size</th>\n",
       "      <th>price</th>\n",
       "      <th>...</th>\n",
       "      <th>age_of_property</th>\n",
       "      <th>price_per_m2</th>\n",
       "      <th>heating_type_Elektro</th>\n",
       "      <th>heating_type_Gas</th>\n",
       "      <th>heating_type_Öl</th>\n",
       "      <th>price_per_m2_cat_very cheap</th>\n",
       "      <th>price_per_m2_cat_cheap</th>\n",
       "      <th>price_per_m2_cat_normal</th>\n",
       "      <th>price_per_m2_cat_expensive</th>\n",
       "      <th>price_per_m2_cat_very expensive</th>\n",
       "    </tr>\n",
       "  </thead>\n",
       "  <tbody>\n",
       "    <tr>\n",
       "      <th>0</th>\n",
       "      <td>1</td>\n",
       "      <td>Zürich</td>\n",
       "      <td>120 m²</td>\n",
       "      <td>CHF 1'200'000.–</td>\n",
       "      <td>4.5 Zimmer</td>\n",
       "      <td>2000.0</td>\n",
       "      <td>Wohnung</td>\n",
       "      <td>Schöne und moderne Wohnung in zentraler Lage</td>\n",
       "      <td>120</td>\n",
       "      <td>1200000</td>\n",
       "      <td>...</td>\n",
       "      <td>24.0</td>\n",
       "      <td>10000.000000</td>\n",
       "      <td>False</td>\n",
       "      <td>True</td>\n",
       "      <td>False</td>\n",
       "      <td>True</td>\n",
       "      <td>False</td>\n",
       "      <td>False</td>\n",
       "      <td>False</td>\n",
       "      <td>False</td>\n",
       "    </tr>\n",
       "    <tr>\n",
       "      <th>1</th>\n",
       "      <td>2</td>\n",
       "      <td>Bern</td>\n",
       "      <td>85 m²</td>\n",
       "      <td>CHF 850'000.–</td>\n",
       "      <td>3 Zimmer</td>\n",
       "      <td>1995.0</td>\n",
       "      <td>Haus</td>\n",
       "      <td>Geräumiges Haus mit großem Garten</td>\n",
       "      <td>85</td>\n",
       "      <td>850000</td>\n",
       "      <td>...</td>\n",
       "      <td>29.0</td>\n",
       "      <td>10000.000000</td>\n",
       "      <td>False</td>\n",
       "      <td>False</td>\n",
       "      <td>True</td>\n",
       "      <td>True</td>\n",
       "      <td>False</td>\n",
       "      <td>False</td>\n",
       "      <td>False</td>\n",
       "      <td>False</td>\n",
       "    </tr>\n",
       "    <tr>\n",
       "      <th>2</th>\n",
       "      <td>3</td>\n",
       "      <td>Genf</td>\n",
       "      <td>150 m²</td>\n",
       "      <td>CHF 1'500'000.–</td>\n",
       "      <td>5 Zimmer</td>\n",
       "      <td>2010.0</td>\n",
       "      <td>Wohnung</td>\n",
       "      <td>Exklusive Wohnung mit Seeblick</td>\n",
       "      <td>150</td>\n",
       "      <td>1500000</td>\n",
       "      <td>...</td>\n",
       "      <td>14.0</td>\n",
       "      <td>10000.000000</td>\n",
       "      <td>True</td>\n",
       "      <td>False</td>\n",
       "      <td>False</td>\n",
       "      <td>True</td>\n",
       "      <td>False</td>\n",
       "      <td>False</td>\n",
       "      <td>False</td>\n",
       "      <td>False</td>\n",
       "    </tr>\n",
       "    <tr>\n",
       "      <th>3</th>\n",
       "      <td>4</td>\n",
       "      <td>Basel</td>\n",
       "      <td>200 m²</td>\n",
       "      <td>CHF 2'300'000.–</td>\n",
       "      <td>6 Zimmer</td>\n",
       "      <td>1980.0</td>\n",
       "      <td>Haus</td>\n",
       "      <td>Charmantes Haus mit großem Garten und Pool</td>\n",
       "      <td>200</td>\n",
       "      <td>2300000</td>\n",
       "      <td>...</td>\n",
       "      <td>44.0</td>\n",
       "      <td>11500.000000</td>\n",
       "      <td>False</td>\n",
       "      <td>True</td>\n",
       "      <td>False</td>\n",
       "      <td>False</td>\n",
       "      <td>False</td>\n",
       "      <td>False</td>\n",
       "      <td>False</td>\n",
       "      <td>True</td>\n",
       "    </tr>\n",
       "    <tr>\n",
       "      <th>4</th>\n",
       "      <td>5</td>\n",
       "      <td>Lausanne</td>\n",
       "      <td>95 m²</td>\n",
       "      <td>CHF 920'000.–</td>\n",
       "      <td>3.5 Zimmer</td>\n",
       "      <td>2005.0</td>\n",
       "      <td>Wohnung</td>\n",
       "      <td>Gemütliche Wohnung in ruhiger Umgebung</td>\n",
       "      <td>95</td>\n",
       "      <td>920000</td>\n",
       "      <td>...</td>\n",
       "      <td>19.0</td>\n",
       "      <td>9684.210526</td>\n",
       "      <td>False</td>\n",
       "      <td>False</td>\n",
       "      <td>True</td>\n",
       "      <td>True</td>\n",
       "      <td>False</td>\n",
       "      <td>False</td>\n",
       "      <td>False</td>\n",
       "      <td>False</td>\n",
       "    </tr>\n",
       "  </tbody>\n",
       "</table>\n",
       "<p>5 rows × 21 columns</p>\n",
       "</div>"
      ],
      "text/plain": [
       "   property_id  location size_raw        price_raw   rooms_raw  year_built  \\\n",
       "0            1    Zürich   120 m²  CHF 1'200'000.–  4.5 Zimmer      2000.0   \n",
       "1            2      Bern    85 m²    CHF 850'000.–    3 Zimmer      1995.0   \n",
       "2            3      Genf   150 m²  CHF 1'500'000.–    5 Zimmer      2010.0   \n",
       "3            4     Basel   200 m²  CHF 2'300'000.–    6 Zimmer      1980.0   \n",
       "4            5  Lausanne    95 m²    CHF 920'000.–  3.5 Zimmer      2005.0   \n",
       "\n",
       "      type                                   description  size    price  ...  \\\n",
       "0  Wohnung  Schöne und moderne Wohnung in zentraler Lage   120  1200000  ...   \n",
       "1     Haus             Geräumiges Haus mit großem Garten    85   850000  ...   \n",
       "2  Wohnung                Exklusive Wohnung mit Seeblick   150  1500000  ...   \n",
       "3     Haus    Charmantes Haus mit großem Garten und Pool   200  2300000  ...   \n",
       "4  Wohnung        Gemütliche Wohnung in ruhiger Umgebung    95   920000  ...   \n",
       "\n",
       "   age_of_property  price_per_m2  heating_type_Elektro  heating_type_Gas  \\\n",
       "0             24.0  10000.000000                 False              True   \n",
       "1             29.0  10000.000000                 False             False   \n",
       "2             14.0  10000.000000                  True             False   \n",
       "3             44.0  11500.000000                 False              True   \n",
       "4             19.0   9684.210526                 False             False   \n",
       "\n",
       "   heating_type_Öl  price_per_m2_cat_very cheap  price_per_m2_cat_cheap  \\\n",
       "0            False                         True                   False   \n",
       "1             True                         True                   False   \n",
       "2            False                         True                   False   \n",
       "3            False                        False                   False   \n",
       "4             True                         True                   False   \n",
       "\n",
       "   price_per_m2_cat_normal  price_per_m2_cat_expensive  \\\n",
       "0                    False                       False   \n",
       "1                    False                       False   \n",
       "2                    False                       False   \n",
       "3                    False                       False   \n",
       "4                    False                       False   \n",
       "\n",
       "   price_per_m2_cat_very expensive  \n",
       "0                            False  \n",
       "1                            False  \n",
       "2                            False  \n",
       "3                             True  \n",
       "4                            False  \n",
       "\n",
       "[5 rows x 21 columns]"
      ]
     },
     "execution_count": 77,
     "metadata": {},
     "output_type": "execute_result"
    }
   ],
   "source": [
    "# Perform One-Hot Encoding on the `heating_type` and `price_per_m2_cat` columns\n",
    "df = pd.get_dummies(df, columns=['heating_type', 'price_per_m2_cat'], drop_first=False)\n",
    "df.head()"
   ]
  },
  {
   "cell_type": "markdown",
   "metadata": {},
   "source": [
    "##### One-Hot Encoding und Skalierung für Immobilientyp"
   ]
  },
  {
   "cell_type": "code",
   "execution_count": 78,
   "metadata": {},
   "outputs": [
    {
     "data": {
      "text/html": [
       "<div>\n",
       "<style scoped>\n",
       "    .dataframe tbody tr th:only-of-type {\n",
       "        vertical-align: middle;\n",
       "    }\n",
       "\n",
       "    .dataframe tbody tr th {\n",
       "        vertical-align: top;\n",
       "    }\n",
       "\n",
       "    .dataframe thead th {\n",
       "        text-align: right;\n",
       "    }\n",
       "</style>\n",
       "<table border=\"1\" class=\"dataframe\">\n",
       "  <thead>\n",
       "    <tr style=\"text-align: right;\">\n",
       "      <th></th>\n",
       "      <th>size</th>\n",
       "      <th>size_scaled_minmax</th>\n",
       "    </tr>\n",
       "  </thead>\n",
       "  <tbody>\n",
       "    <tr>\n",
       "      <th>0</th>\n",
       "      <td>120</td>\n",
       "      <td>0.304348</td>\n",
       "    </tr>\n",
       "    <tr>\n",
       "      <th>1</th>\n",
       "      <td>85</td>\n",
       "      <td>0.000000</td>\n",
       "    </tr>\n",
       "    <tr>\n",
       "      <th>2</th>\n",
       "      <td>150</td>\n",
       "      <td>0.565217</td>\n",
       "    </tr>\n",
       "    <tr>\n",
       "      <th>3</th>\n",
       "      <td>200</td>\n",
       "      <td>1.000000</td>\n",
       "    </tr>\n",
       "    <tr>\n",
       "      <th>4</th>\n",
       "      <td>95</td>\n",
       "      <td>0.086957</td>\n",
       "    </tr>\n",
       "  </tbody>\n",
       "</table>\n",
       "</div>"
      ],
      "text/plain": [
       "   size  size_scaled_minmax\n",
       "0   120            0.304348\n",
       "1    85            0.000000\n",
       "2   150            0.565217\n",
       "3   200            1.000000\n",
       "4    95            0.086957"
      ]
     },
     "execution_count": 78,
     "metadata": {},
     "output_type": "execute_result"
    }
   ],
   "source": [
    "# One-Hot-Encoding für Immobilientyp\n",
    "df = pd.get_dummies(df, columns=['type'], drop_first=False)\n",
    "\n",
    "# Min-Max-Skalierung für die Größe\n",
    "df['size_scaled_minmax'] = (df['size'] - df['size'].min()) / (df['size'].max() - df['size'].min())\n",
    "df[['size', 'size_scaled_minmax']].head()\n"
   ]
  },
  {
   "cell_type": "markdown",
   "metadata": {},
   "source": [
    "## Step 4: Scaling and Transformation"
   ]
  },
  {
   "cell_type": "markdown",
   "metadata": {},
   "source": [
    "### Min-Max Scaling"
   ]
  },
  {
   "cell_type": "code",
   "execution_count": 79,
   "metadata": {},
   "outputs": [],
   "source": [
    "# Apply Min-Max Scaling to `area` column\n",
    "df['size_scaled_minmax'] = (df['size'] - df['size'].min()) / (df['size'].max() - df['size'].min())"
   ]
  },
  {
   "cell_type": "code",
   "execution_count": 80,
   "metadata": {},
   "outputs": [],
   "source": [
    "# Apply Z-score normalization to `age_of_property`\n",
    "df['age_of_property_zscore'] = (df['age_of_property'] - df['age_of_property'].mean()) / df['age_of_property'].std()"
   ]
  },
  {
   "cell_type": "markdown",
   "metadata": {},
   "source": [
    "## Step 5: Data Visualization"
   ]
  },
  {
   "cell_type": "markdown",
   "metadata": {},
   "source": [
    "### Plot Distribution of Prices"
   ]
  },
  {
   "cell_type": "code",
   "execution_count": 81,
   "metadata": {},
   "outputs": [
    {
     "data": {
      "image/png": "[encoded data removed]",
      "text/plain": [
       "<Figure size 800x500 with 1 Axes>"
      ]
     },
     "metadata": {},
     "output_type": "display_data"
    }
   ],
   "source": [
    "plt.figure(figsize=(8, 5))\n",
    "sns.histplot(df['price'], bins=30, kde=True, color='blue')\n",
    "plt.title('Distribution of Property Prices')\n",
    "plt.xlabel('Price (CHF)')\n",
    "plt.ylabel('Frequency')\n",
    "plt.show()"
   ]
  },
  {
   "cell_type": "markdown",
   "metadata": {},
   "source": [
    "### Box Plot of Price per Square Meter by Property Type"
   ]
  },
  {
   "cell_type": "code",
   "execution_count": 82,
   "metadata": {},
   "outputs": [
    {
     "name": "stdout",
     "output_type": "stream",
     "text": [
      "Index(['property_id', 'location', 'size_raw', 'price_raw', 'rooms_raw',\n",
      "       'year_built', 'description', 'size', 'price', 'rooms',\n",
      "       'age_of_property', 'price_per_m2', 'heating_type_Elektro',\n",
      "       'heating_type_Gas', 'heating_type_Öl', 'price_per_m2_cat_very cheap',\n",
      "       'price_per_m2_cat_cheap', 'price_per_m2_cat_normal',\n",
      "       'price_per_m2_cat_expensive', 'price_per_m2_cat_very expensive',\n",
      "       'type_Haus', 'type_Wohnung', 'size_scaled_minmax',\n",
      "       'age_of_property_zscore'],\n",
      "      dtype='object')\n"
     ]
    }
   ],
   "source": [
    "print(df.columns)"
   ]
  },
  {
   "cell_type": "code",
   "execution_count": 83,
   "metadata": {},
   "outputs": [
    {
     "data": {
      "image/png": "[encoded data removed]",
      "text/plain": [
       "<Figure size 800x500 with 1 Axes>"
      ]
     },
     "metadata": {},
     "output_type": "display_data"
    }
   ],
   "source": [
    "# Erstellen einer neuen Spalte 'type' basierend auf den One-Hot-Encoded-Spalten\n",
    "df['type'] = df[['type_Haus', 'type_Wohnung']].idxmax(axis=1).str.replace('type_', '')\n",
    "\n",
    "# Boxplot erstellen\n",
    "plt.figure(figsize=(8, 5))\n",
    "sns.boxplot(x='type', y='price_per_m2', data=df)\n",
    "plt.title('Price per Square Meter by Property Type')\n",
    "plt.xlabel('Property Type')\n",
    "plt.ylabel('Price per m² (CHF)')\n",
    "plt.show()\n",
    "\n"
   ]
  },
  {
   "cell_type": "markdown",
   "metadata": {},
   "source": [
    "### Count Plot for Heating Type"
   ]
  },
  {
   "cell_type": "code",
   "execution_count": 84,
   "metadata": {},
   "outputs": [
    {
     "data": {
      "image/png": "[encoded data removed]",
      "text/plain": [
       "<Figure size 800x500 with 1 Axes>"
      ]
     },
     "metadata": {},
     "output_type": "display_data"
    }
   ],
   "source": [
    "# Erstellen einer neuen Spalte 'heating_type' aus den One-Hot-Encoded-Spalten\n",
    "df['heating_type'] = df[['heating_type_Elektro', 'heating_type_Gas', 'heating_type_Öl']].idxmax(axis=1).str.replace('heating_type_', '')\n",
    "\n",
    "# Countplot erstellen\n",
    "plt.figure(figsize=(8, 5))\n",
    "sns.countplot(x='heating_type', data=df)\n",
    "plt.title('Distribution of Heating Types')\n",
    "plt.xlabel('Heating Type')\n",
    "plt.ylabel('Count')\n",
    "plt.show()\n"
   ]
  },
  {
   "cell_type": "markdown",
   "metadata": {},
   "source": [
    "## Step 6: Summary Statistics"
   ]
  },
  {
   "cell_type": "code",
   "execution_count": 85,
   "metadata": {},
   "outputs": [
    {
     "data": {
      "text/html": [
       "<div>\n",
       "<style scoped>\n",
       "    .dataframe tbody tr th:only-of-type {\n",
       "        vertical-align: middle;\n",
       "    }\n",
       "\n",
       "    .dataframe tbody tr th {\n",
       "        vertical-align: top;\n",
       "    }\n",
       "\n",
       "    .dataframe thead th {\n",
       "        text-align: right;\n",
       "    }\n",
       "</style>\n",
       "<table border=\"1\" class=\"dataframe\">\n",
       "  <thead>\n",
       "    <tr style=\"text-align: right;\">\n",
       "      <th></th>\n",
       "      <th>property_id</th>\n",
       "      <th>year_built</th>\n",
       "      <th>size</th>\n",
       "      <th>price</th>\n",
       "      <th>rooms</th>\n",
       "      <th>age_of_property</th>\n",
       "      <th>price_per_m2</th>\n",
       "      <th>size_scaled_minmax</th>\n",
       "      <th>age_of_property_zscore</th>\n",
       "    </tr>\n",
       "  </thead>\n",
       "  <tbody>\n",
       "    <tr>\n",
       "      <th>count</th>\n",
       "      <td>15.000000</td>\n",
       "      <td>15.000000</td>\n",
       "      <td>15.000000</td>\n",
       "      <td>1.500000e+01</td>\n",
       "      <td>15.000000</td>\n",
       "      <td>15.000000</td>\n",
       "      <td>15.000000</td>\n",
       "      <td>15.000000</td>\n",
       "      <td>1.500000e+01</td>\n",
       "    </tr>\n",
       "    <tr>\n",
       "      <th>mean</th>\n",
       "      <td>8.000000</td>\n",
       "      <td>1995.500000</td>\n",
       "      <td>130.000000</td>\n",
       "      <td>1.354000e+06</td>\n",
       "      <td>4.400000</td>\n",
       "      <td>28.500000</td>\n",
       "      <td>10236.842105</td>\n",
       "      <td>0.391304</td>\n",
       "      <td>4.440892e-17</td>\n",
       "    </tr>\n",
       "    <tr>\n",
       "      <th>std</th>\n",
       "      <td>4.472136</td>\n",
       "      <td>6.532884</td>\n",
       "      <td>43.053123</td>\n",
       "      <td>5.442531e+05</td>\n",
       "      <td>1.105183</td>\n",
       "      <td>6.532884</td>\n",
       "      <td>665.891252</td>\n",
       "      <td>0.374375</td>\n",
       "      <td>1.000000e+00</td>\n",
       "    </tr>\n",
       "    <tr>\n",
       "      <th>min</th>\n",
       "      <td>1.000000</td>\n",
       "      <td>1980.000000</td>\n",
       "      <td>85.000000</td>\n",
       "      <td>8.500000e+05</td>\n",
       "      <td>3.000000</td>\n",
       "      <td>14.000000</td>\n",
       "      <td>9684.210526</td>\n",
       "      <td>0.000000</td>\n",
       "      <td>-2.219540e+00</td>\n",
       "    </tr>\n",
       "    <tr>\n",
       "      <th>25%</th>\n",
       "      <td>4.500000</td>\n",
       "      <td>1993.250000</td>\n",
       "      <td>95.000000</td>\n",
       "      <td>9.200000e+05</td>\n",
       "      <td>3.500000</td>\n",
       "      <td>27.750000</td>\n",
       "      <td>10000.000000</td>\n",
       "      <td>0.086957</td>\n",
       "      <td>-1.148038e-01</td>\n",
       "    </tr>\n",
       "    <tr>\n",
       "      <th>50%</th>\n",
       "      <td>8.000000</td>\n",
       "      <td>1995.000000</td>\n",
       "      <td>120.000000</td>\n",
       "      <td>1.200000e+06</td>\n",
       "      <td>4.500000</td>\n",
       "      <td>29.000000</td>\n",
       "      <td>10000.000000</td>\n",
       "      <td>0.304348</td>\n",
       "      <td>7.653588e-02</td>\n",
       "    </tr>\n",
       "    <tr>\n",
       "      <th>75%</th>\n",
       "      <td>11.500000</td>\n",
       "      <td>1996.250000</td>\n",
       "      <td>150.000000</td>\n",
       "      <td>1.500000e+06</td>\n",
       "      <td>5.000000</td>\n",
       "      <td>30.750000</td>\n",
       "      <td>10000.000000</td>\n",
       "      <td>0.565217</td>\n",
       "      <td>3.444114e-01</td>\n",
       "    </tr>\n",
       "    <tr>\n",
       "      <th>max</th>\n",
       "      <td>15.000000</td>\n",
       "      <td>2010.000000</td>\n",
       "      <td>200.000000</td>\n",
       "      <td>2.300000e+06</td>\n",
       "      <td>6.000000</td>\n",
       "      <td>44.000000</td>\n",
       "      <td>11500.000000</td>\n",
       "      <td>1.000000</td>\n",
       "      <td>2.372612e+00</td>\n",
       "    </tr>\n",
       "  </tbody>\n",
       "</table>\n",
       "</div>"
      ],
      "text/plain": [
       "       property_id   year_built        size         price      rooms  \\\n",
       "count    15.000000    15.000000   15.000000  1.500000e+01  15.000000   \n",
       "mean      8.000000  1995.500000  130.000000  1.354000e+06   4.400000   \n",
       "std       4.472136     6.532884   43.053123  5.442531e+05   1.105183   \n",
       "min       1.000000  1980.000000   85.000000  8.500000e+05   3.000000   \n",
       "25%       4.500000  1993.250000   95.000000  9.200000e+05   3.500000   \n",
       "50%       8.000000  1995.000000  120.000000  1.200000e+06   4.500000   \n",
       "75%      11.500000  1996.250000  150.000000  1.500000e+06   5.000000   \n",
       "max      15.000000  2010.000000  200.000000  2.300000e+06   6.000000   \n",
       "\n",
       "       age_of_property  price_per_m2  size_scaled_minmax  \\\n",
       "count        15.000000     15.000000           15.000000   \n",
       "mean         28.500000  10236.842105            0.391304   \n",
       "std           6.532884    665.891252            0.374375   \n",
       "min          14.000000   9684.210526            0.000000   \n",
       "25%          27.750000  10000.000000            0.086957   \n",
       "50%          29.000000  10000.000000            0.304348   \n",
       "75%          30.750000  10000.000000            0.565217   \n",
       "max          44.000000  11500.000000            1.000000   \n",
       "\n",
       "       age_of_property_zscore  \n",
       "count            1.500000e+01  \n",
       "mean             4.440892e-17  \n",
       "std              1.000000e+00  \n",
       "min             -2.219540e+00  \n",
       "25%             -1.148038e-01  \n",
       "50%              7.653588e-02  \n",
       "75%              3.444114e-01  \n",
       "max              2.372612e+00  "
      ]
     },
     "execution_count": 85,
     "metadata": {},
     "output_type": "execute_result"
    }
   ],
   "source": [
    "# Display summary statistics for numerical columns\n",
    "df.describe()"
   ]
  },
  {
   "cell_type": "code",
   "execution_count": 86,
   "metadata": {},
   "outputs": [
    {
     "data": {
      "text/plain": [
       "price              0.975858\n",
       "size               0.669238\n",
       "age_of_property   -0.052100\n",
       "dtype: float64"
      ]
     },
     "execution_count": 86,
     "metadata": {},
     "output_type": "execute_result"
    }
   ],
   "source": [
    "# Display skewness of numerical columns\n",
    "df[['price', 'size', 'age_of_property']].skew()"
   ]
  },
  {
   "cell_type": "code",
   "execution_count": 87,
   "metadata": {},
   "outputs": [
    {
     "name": "stdout",
     "output_type": "stream",
     "text": [
      "       property_id  year_built    size       price  rooms  age_of_property  \\\n",
      "count        15.00       15.00   15.00       15.00  15.00            15.00   \n",
      "mean          8.00     1995.50  130.00  1354000.00   4.40            28.50   \n",
      "std           4.47        6.53   43.05   544253.09   1.11             6.53   \n",
      "min           1.00     1980.00   85.00   850000.00   3.00            14.00   \n",
      "25%           4.50     1993.25   95.00   920000.00   3.50            27.75   \n",
      "50%           8.00     1995.00  120.00  1200000.00   4.50            29.00   \n",
      "75%          11.50     1996.25  150.00  1500000.00   5.00            30.75   \n",
      "max          15.00     2010.00  200.00  2300000.00   6.00            44.00   \n",
      "\n",
      "       price_per_m2  size_scaled_minmax  age_of_property_zscore  \n",
      "count         15.00               15.00                   15.00  \n",
      "mean       10236.84                0.39                    0.00  \n",
      "std          665.89                0.37                    1.00  \n",
      "min         9684.21                0.00                   -2.22  \n",
      "25%        10000.00                0.09                   -0.11  \n",
      "50%        10000.00                0.30                    0.08  \n",
      "75%        10000.00                0.57                    0.34  \n",
      "max        11500.00                1.00                    2.37  \n",
      "Schiefe der Verteilungen:\n",
      " size     0.67\n",
      "price    0.98\n",
      "rooms    0.15\n",
      "dtype: float64\n"
     ]
    }
   ],
   "source": [
    "# Zusammenfassende Statistik\n",
    "summary = df.describe().round(2)\n",
    "print(summary)\n",
    "\n",
    "# Schiefe (Skewness) berechnen\n",
    "skewness = df[['size', 'price', 'rooms']].skew().round(2)\n",
    "print(\"Schiefe der Verteilungen:\\n\", skewness)"
   ]
  },
  {
   "cell_type": "markdown",
   "metadata": {},
   "source": [
    "THE END"
   ]
  }
 ],
 "metadata": {
  "kernelspec": {
   "display_name": "Python 3",
   "language": "python",
   "name": "python3"
  },
  "language_info": {
   "codemirror_mode": {
    "name": "ipython",
    "version": 3
   },
   "file_extension": ".py",
   "mimetype": "text/x-python",
   "name": "python",
   "nbconvert_exporter": "python",
   "pygments_lexer": "ipython3",
   "version": "3.11.10"
  }
 },
 "nbformat": 4,
 "nbformat_minor": 2
}
